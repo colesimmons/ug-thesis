{
 "cells": [
  {
   "cell_type": "code",
   "execution_count": 1,
   "metadata": {},
   "outputs": [],
   "source": [
    "import pandas as pd"
   ]
  },
  {
   "cell_type": "code",
   "execution_count": 3,
   "metadata": {},
   "outputs": [],
   "source": [
    "df = pd.read_csv(\"5_with_glyphs.csv\", encoding=\"utf-8\")"
   ]
  },
  {
   "cell_type": "code",
   "execution_count": 8,
   "metadata": {},
   "outputs": [
    {
     "name": "stdout",
     "output_type": "stream",
     "text": [
      "Number of rows:  91527\n"
     ]
    }
   ],
   "source": [
    "print(\"Number of rows: \", len(df))"
   ]
  },
  {
   "cell_type": "code",
   "execution_count": 5,
   "metadata": {},
   "outputs": [
    {
     "name": "stdout",
     "output_type": "stream",
     "text": [
      "period\n",
      "Ur III                 78949\n",
      "Old Akkadian            5294\n",
      "Early Dynastic IIIb     3846\n",
      "Old Babylonian          1520\n",
      "Lagash II                873\n",
      "Early Dynastic IIIa      839\n",
      "Early Dynastic I-II       85\n",
      "Unknown                   76\n",
      "Neo-Assyrian              22\n",
      "Neo-Babylonian            16\n",
      "Middle Babylonian          7\n",
      "Name: count, dtype: int64\n"
     ]
    }
   ],
   "source": [
    "print(df[\"period\"].value_counts())"
   ]
  },
  {
   "cell_type": "code",
   "execution_count": 7,
   "metadata": {},
   "outputs": [
    {
     "name": "stdout",
     "output_type": "stream",
     "text": [
      "genre\n",
      "Administrative       85704\n",
      "Royal Inscription     2868\n",
      "Literary              1125\n",
      "Letter                 799\n",
      "Legal                  615\n",
      "Unknown                290\n",
      "Lexical                 69\n",
      "Liturgy                 45\n",
      "Math/Science            12\n",
      "Name: count, dtype: int64\n"
     ]
    }
   ],
   "source": [
    "print(df[\"genre\"].value_counts())"
   ]
  },
  {
   "cell_type": "code",
   "execution_count": 9,
   "metadata": {},
   "outputs": [],
   "source": [
    "SPECIAL_TOKENS = {\n",
    "    \"==SURFACE==\",\n",
    "    \"==COLUMN==\",\n",
    "    \"==BLANK_SPACE==\",\n",
    "    \"==RULING==\",\n",
    "    \"...\",\n",
    "    \"\\n\",\n",
    "    \"<unk>\",\n",
    "}\n",
    "\n",
    "\n",
    "def _remove_special_tokens(text: str) -> str:\n",
    "    for token in SPECIAL_TOKENS:\n",
    "        text = text.replace(token, \"\")\n",
    "    return text\n",
    "\n",
    "\n",
    "# Remove special tokens from \"glyphs\" and \"transliteration\"\n",
    "df[\"glyphs\"] = df[\"glyphs\"].apply(_remove_special_tokens)"
   ]
  },
  {
   "cell_type": "code",
   "execution_count": 13,
   "metadata": {},
   "outputs": [
    {
     "data": {
      "text/plain": [
       "0        None\n",
       "1        None\n",
       "2        None\n",
       "3        None\n",
       "4        None\n",
       "         ... \n",
       "91522    None\n",
       "91523    None\n",
       "91524    None\n",
       "91525    None\n",
       "91526    None\n",
       "Name: glyphs, Length: 91527, dtype: object"
      ]
     },
     "execution_count": 13,
     "metadata": {},
     "output_type": "execute_result"
    }
   ],
   "source": [
    "from collections import Counter\n",
    "\n",
    "glyph_counts = Counter()\n",
    "tablet_lengths: list[int] = []\n",
    "\n",
    "\n",
    "def _count_glyphs(text: str) -> str:\n",
    "    glyphs = list(text.split())\n",
    "    for glyph in glyphs:\n",
    "        glyph_counts[glyph] += 1\n",
    "    tablet_lengths.append(len(glyphs))\n",
    "\n",
    "\n",
    "df[\"glyphs\"].apply(_count_glyphs)"
   ]
  },
  {
   "cell_type": "code",
   "execution_count": 16,
   "metadata": {},
   "outputs": [
    {
     "data": {
      "text/plain": [
       "[('𒀭', 288987),\n",
       " ('𒀀', 196197),\n",
       " ('𒁹', 177045),\n",
       " ('𒆠', 172860),\n",
       " ('𒁀', 161210),\n",
       " ('𒉌', 140179),\n",
       " ('𒈬', 139475),\n",
       " ('𒌨', 121769),\n",
       " ('𒋡', 108767),\n",
       " ('𒋗', 101935)]"
      ]
     },
     "execution_count": 16,
     "metadata": {},
     "output_type": "execute_result"
    }
   ],
   "source": [
    "glyph_counts.most_common(10)"
   ]
  },
  {
   "cell_type": "code",
   "execution_count": 20,
   "metadata": {},
   "outputs": [
    {
     "data": {
      "text/plain": [
       "'Number of unique glyphs: 666'"
      ]
     },
     "execution_count": 20,
     "metadata": {},
     "output_type": "execute_result"
    }
   ],
   "source": [
    "unique_glyphs = set(glyph_counts.keys())\n",
    "f\"Number of unique glyphs: {len(unique_glyphs)}\""
   ]
  },
  {
   "cell_type": "code",
   "execution_count": 21,
   "metadata": {},
   "outputs": [
    {
     "data": {
      "text/plain": [
       "'Total number of glyphs: 7053055'"
      ]
     },
     "execution_count": 21,
     "metadata": {},
     "output_type": "execute_result"
    }
   ],
   "source": [
    "total_num_glyphs = sum(glyph_counts.values())\n",
    "f\"Total number of glyphs: {total_num_glyphs}\""
   ]
  },
  {
   "cell_type": "code",
   "execution_count": 23,
   "metadata": {},
   "outputs": [
    {
     "data": {
      "text/plain": [
       "'Average tablet length: 77.05982933997618 glyphs'"
      ]
     },
     "execution_count": 23,
     "metadata": {},
     "output_type": "execute_result"
    }
   ],
   "source": [
    "avg_tablet_length = sum(tablet_lengths) / len(tablet_lengths)\n",
    "f\"Average tablet length: {avg_tablet_length} glyphs\""
   ]
  },
  {
   "cell_type": "code",
   "execution_count": null,
   "metadata": {},
   "outputs": [],
   "source": []
  }
 ],
 "metadata": {
  "kernelspec": {
   "display_name": ".venv",
   "language": "python",
   "name": "python3"
  },
  "language_info": {
   "codemirror_mode": {
    "name": "ipython",
    "version": 3
   },
   "file_extension": ".py",
   "mimetype": "text/x-python",
   "name": "python",
   "nbconvert_exporter": "python",
   "pygments_lexer": "ipython3",
   "version": "3.12.2"
  }
 },
 "nbformat": 4,
 "nbformat_minor": 2
}
